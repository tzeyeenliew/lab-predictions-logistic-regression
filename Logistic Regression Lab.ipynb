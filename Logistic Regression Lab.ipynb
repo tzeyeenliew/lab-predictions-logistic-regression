{
 "cells": [
  {
   "cell_type": "code",
   "execution_count": 1,
   "id": "b31ced99",
   "metadata": {},
   "outputs": [
    {
     "name": "stdout",
     "output_type": "stream",
     "text": [
      "········\n"
     ]
    }
   ],
   "source": [
    "import pymysql\n",
    "from sqlalchemy import create_engine\n",
    "import pandas as pd\n",
    "import getpass  # To get the password without showing the input\n",
    "from sklearn.preprocessing import StandardScaler\n",
    "import numpy as np\n",
    "import matplotlib.pyplot as plt\n",
    "from sklearn.model_selection import train_test_split\n",
    "from sklearn.linear_model import LogisticRegression\n",
    "import seaborn as sns\n",
    "from sklearn import metrics\n",
    "import matplotlib.pyplot as plt\n",
    "\n",
    "%matplotlib inline\n",
    "password = getpass.getpass()\n",
    "connection_string = 'mysql+pymysql://root:' + password + '@localhost/sakila'\n",
    "engine = create_engine(connection_string)"
   ]
  },
  {
   "cell_type": "code",
   "execution_count": 2,
   "id": "9e4f4729",
   "metadata": {},
   "outputs": [],
   "source": [
    "### Getting the data -- in this case, rented_last_month will be the target variable\n",
    "###Justification of variables:\n",
    "\n",
    "###1. Title - self explanatory\n",
    "###2. Historical rental volume - Through counting the distinct rental_ids to date we can tell how many times (across all copies) \n",
    "### a particular film title has been rented thus far\n",
    "###3. Rental price - Assuming cheaper titles are more likely to be rented ,to some degree\n",
    "###4. Average rental duration in days - the shorter the rental duration, the sooner it becomes available for rent. I manually\n",
    "### calculated it just because I wanted to see if my python formula works\n",
    "###5. Rented last month - As a recent indication of possible fluctuations in popularity (new release? seasonal christmas films?.\n",
    "### Also our target variable\n",
    "###6. Rating, length, and category - Film characteristics that may appeal differently to different viewer segments\n",
    "\n"
   ]
  },
  {
   "cell_type": "code",
   "execution_count": null,
   "id": "bd544e2f",
   "metadata": {},
   "outputs": [],
   "source": [
    "###NB: I thought of including the variable 'special_features' but after some digging via SQL, every film has special features\n",
    "###and that meant I would need to create a dummy variable for every type of special feature, making the model\n",
    "### more complex than I can handle given the time constraints. It also needs to be cleaned because the values are messed up\n",
    "###:( So this is just to let you know that I've thought about it, and I'll do it when I have the time to revisit this lab"
   ]
  },
  {
   "cell_type": "code",
   "execution_count": null,
   "id": "1eb4ffe7",
   "metadata": {},
   "outputs": [],
   "source": [
    "###NB2: I've included an extra part on how to improve the model towards the very end!"
   ]
  },
  {
   "cell_type": "code",
   "execution_count": null,
   "id": "76f2a66c",
   "metadata": {},
   "outputs": [],
   "source": [
    "### Reading the SQL dataframe"
   ]
  },
  {
   "cell_type": "code",
   "execution_count": 64,
   "id": "d1889cfd",
   "metadata": {},
   "outputs": [
    {
     "data": {
      "text/html": [
       "<div>\n",
       "<style scoped>\n",
       "    .dataframe tbody tr th:only-of-type {\n",
       "        vertical-align: middle;\n",
       "    }\n",
       "\n",
       "    .dataframe tbody tr th {\n",
       "        vertical-align: top;\n",
       "    }\n",
       "\n",
       "    .dataframe thead th {\n",
       "        text-align: right;\n",
       "    }\n",
       "</style>\n",
       "<table border=\"1\" class=\"dataframe\">\n",
       "  <thead>\n",
       "    <tr style=\"text-align: right;\">\n",
       "      <th></th>\n",
       "      <th>title</th>\n",
       "      <th>number_of_copies</th>\n",
       "      <th>historical_rental_volume</th>\n",
       "      <th>rental_price</th>\n",
       "      <th>average_rental_duration_in_days</th>\n",
       "      <th>length</th>\n",
       "      <th>rating</th>\n",
       "      <th>category</th>\n",
       "      <th>rented_last_month</th>\n",
       "    </tr>\n",
       "  </thead>\n",
       "  <tbody>\n",
       "    <tr>\n",
       "      <th>0</th>\n",
       "      <td>ACADEMY DINOSAUR</td>\n",
       "      <td>7</td>\n",
       "      <td>24</td>\n",
       "      <td>0.99</td>\n",
       "      <td>5.0</td>\n",
       "      <td>86</td>\n",
       "      <td>PG</td>\n",
       "      <td>Documentary</td>\n",
       "      <td>0</td>\n",
       "    </tr>\n",
       "    <tr>\n",
       "      <th>1</th>\n",
       "      <td>ACE GOLDFINGER</td>\n",
       "      <td>3</td>\n",
       "      <td>7</td>\n",
       "      <td>4.99</td>\n",
       "      <td>6.0</td>\n",
       "      <td>48</td>\n",
       "      <td>G</td>\n",
       "      <td>Horror</td>\n",
       "      <td>1</td>\n",
       "    </tr>\n",
       "    <tr>\n",
       "      <th>2</th>\n",
       "      <td>ADAPTATION HOLES</td>\n",
       "      <td>4</td>\n",
       "      <td>12</td>\n",
       "      <td>2.99</td>\n",
       "      <td>3.0</td>\n",
       "      <td>50</td>\n",
       "      <td>NC-17</td>\n",
       "      <td>Documentary</td>\n",
       "      <td>0</td>\n",
       "    </tr>\n",
       "    <tr>\n",
       "      <th>3</th>\n",
       "      <td>AFFAIR PREJUDICE</td>\n",
       "      <td>7</td>\n",
       "      <td>23</td>\n",
       "      <td>2.99</td>\n",
       "      <td>5.0</td>\n",
       "      <td>117</td>\n",
       "      <td>G</td>\n",
       "      <td>Horror</td>\n",
       "      <td>1</td>\n",
       "    </tr>\n",
       "    <tr>\n",
       "      <th>4</th>\n",
       "      <td>AFRICAN EGG</td>\n",
       "      <td>3</td>\n",
       "      <td>12</td>\n",
       "      <td>2.99</td>\n",
       "      <td>7.0</td>\n",
       "      <td>130</td>\n",
       "      <td>G</td>\n",
       "      <td>Family</td>\n",
       "      <td>1</td>\n",
       "    </tr>\n",
       "  </tbody>\n",
       "</table>\n",
       "</div>"
      ],
      "text/plain": [
       "              title  number_of_copies  historical_rental_volume  rental_price  \\\n",
       "0  ACADEMY DINOSAUR                 7                        24          0.99   \n",
       "1    ACE GOLDFINGER                 3                         7          4.99   \n",
       "2  ADAPTATION HOLES                 4                        12          2.99   \n",
       "3  AFFAIR PREJUDICE                 7                        23          2.99   \n",
       "4       AFRICAN EGG                 3                        12          2.99   \n",
       "\n",
       "   average_rental_duration_in_days  length rating     category  \\\n",
       "0                              5.0      86     PG  Documentary   \n",
       "1                              6.0      48      G       Horror   \n",
       "2                              3.0      50  NC-17  Documentary   \n",
       "3                              5.0     117      G       Horror   \n",
       "4                              7.0     130      G       Family   \n",
       "\n",
       "   rented_last_month  \n",
       "0                  0  \n",
       "1                  1  \n",
       "2                  0  \n",
       "3                  1  \n",
       "4                  1  "
      ]
     },
     "execution_count": 64,
     "metadata": {},
     "output_type": "execute_result"
    }
   ],
   "source": [
    "query = '''\n",
    "SELECT f.title, COUNT(DISTINCT i.inventory_id) AS number_of_copies, COUNT(DISTINCT rental_id)\n",
    " AS historical_rental_volume, f.rental_rate AS rental_price, ROUND(avg( to_days(return_date)\n",
    "          - to_days(rental_date) ))\n",
    "        as average_rental_duration_in_days, f.length, f.rating, c.name AS category,\n",
    "CASE WHEN MAX(rental_date) >= '2006-02-01' AND MAX(rental_date) < '2006-03-01' THEN TRUE ELSE FALSE END AS rented_last_month\n",
    "FROM rental\n",
    "JOIN inventory AS i USING (inventory_id)\n",
    "JOIN film  AS f USING (film_id)\n",
    "JOIN film_category AS fc USING (film_id)\n",
    "JOIN category AS c USING (category_id)\n",
    "GROUP BY f.title, f.rental_rate, f.length, f.rating, c.name;\n",
    ";\n",
    "\n",
    "\n",
    "'''\n",
    "\n",
    "data = pd.read_sql_query(query, engine)\n",
    "data.head()"
   ]
  },
  {
   "cell_type": "code",
   "execution_count": 65,
   "id": "da464195",
   "metadata": {
    "scrolled": true
   },
   "outputs": [
    {
     "name": "stdout",
     "output_type": "stream",
     "text": [
      "<class 'pandas.core.frame.DataFrame'>\n",
      "RangeIndex: 958 entries, 0 to 957\n",
      "Data columns (total 9 columns):\n",
      " #   Column                           Non-Null Count  Dtype  \n",
      "---  ------                           --------------  -----  \n",
      " 0   title                            958 non-null    object \n",
      " 1   number_of_copies                 958 non-null    int64  \n",
      " 2   historical_rental_volume         958 non-null    int64  \n",
      " 3   rental_price                     958 non-null    float64\n",
      " 4   average_rental_duration_in_days  958 non-null    float64\n",
      " 5   length                           958 non-null    int64  \n",
      " 6   rating                           958 non-null    object \n",
      " 7   category                         958 non-null    object \n",
      " 8   rented_last_month                958 non-null    int64  \n",
      "dtypes: float64(2), int64(4), object(3)\n",
      "memory usage: 67.5+ KB\n"
     ]
    }
   ],
   "source": [
    "data.info()"
   ]
  },
  {
   "cell_type": "code",
   "execution_count": 66,
   "id": "ba6222e3",
   "metadata": {},
   "outputs": [
    {
     "data": {
      "text/plain": [
       "(958, 9)"
      ]
     },
     "execution_count": 66,
     "metadata": {},
     "output_type": "execute_result"
    }
   ],
   "source": [
    "data.shape #958 rows, 9 columns"
   ]
  },
  {
   "cell_type": "code",
   "execution_count": 67,
   "id": "50a70429",
   "metadata": {},
   "outputs": [
    {
     "data": {
      "text/plain": [
       "0"
      ]
     },
     "execution_count": 67,
     "metadata": {},
     "output_type": "execute_result"
    }
   ],
   "source": [
    "data.isna().sum().sum()  ### no nulls in the entire dataframe"
   ]
  },
  {
   "cell_type": "code",
   "execution_count": 68,
   "id": "d394dfe8",
   "metadata": {},
   "outputs": [
    {
     "name": "stdout",
     "output_type": "stream",
     "text": [
      "Empty DataFrame\n",
      "Columns: [title, number_of_copies, historical_rental_volume, rental_price, average_rental_duration_in_days, length, rating, category, rented_last_month]\n",
      "Index: []\n"
     ]
    }
   ],
   "source": [
    "df1 = data[data.isna().any(axis=1)] ###cross checking for nulls\n",
    "print(df1)"
   ]
  },
  {
   "cell_type": "code",
   "execution_count": 69,
   "id": "657bb90c",
   "metadata": {
    "scrolled": false
   },
   "outputs": [
    {
     "name": "stdout",
     "output_type": "stream",
     "text": [
      "['ACADEMY DINOSAUR' 'ACE GOLDFINGER' 'ADAPTATION HOLES' 'AFFAIR PREJUDICE'\n",
      " 'AFRICAN EGG' 'AGENT TRUMAN' 'AIRPLANE SIERRA' 'AIRPORT POLLOCK'\n",
      " 'ALABAMA DEVIL' 'ALADDIN CALENDAR' 'ALAMO VIDEOTAPE' 'ALASKA PHANTOM'\n",
      " 'ALI FOREVER' 'ALIEN CENTER' 'ALLEY EVOLUTION' 'ALONE TRIP'\n",
      " 'ALTER VICTORY' 'AMADEUS HOLY' 'AMELIE HELLFIGHTERS' 'AMERICAN CIRCUS'\n",
      " 'AMISTAD MIDSUMMER' 'ANACONDA CONFESSIONS' 'ANALYZE HOOSIERS'\n",
      " 'ANGELS LIFE' 'ANNIE IDENTITY' 'ANONYMOUS HUMAN' 'ANTHEM LUKE'\n",
      " 'ANTITRUST TOMATOES' 'ANYTHING SAVANNAH' 'APACHE DIVINE'\n",
      " 'APOCALYPSE FLAMINGOS' 'ARABIA DOGMA' 'ARACHNOPHOBIA ROLLERCOASTER'\n",
      " 'ARIZONA BANG' 'ARMAGEDDON LOST' 'ARMY FLINTSTONES' 'ARTIST COLDBLOODED'\n",
      " 'ATLANTIS CAUSE' 'ATTACKS HATE' 'ATTRACTION NEWTON' 'AUTUMN CROW'\n",
      " 'BABY HALL' 'BACKLASH UNDEFEATED' 'BADMAN DAWN' 'BAKED CLEOPATRA'\n",
      " 'BALLOON HOMEWARD' 'BALLROOM MOCKINGBIRD' 'BANG KWAI' 'BANGER PINOCCHIO'\n",
      " 'BARBARELLA STREETCAR' 'BAREFOOT MANCHURIAN' 'BASIC EASY'\n",
      " 'BEACH HEARTBREAKERS' 'BEAR GRACELAND' 'BEAST HUNCHBACK' 'BEAUTY GREASE'\n",
      " 'BED HIGHBALL' 'BEDAZZLED MARRIED' 'BEETHOVEN EXORCIST'\n",
      " 'BEHAVIOR RUNAWAY' 'BENEATH RUSH' 'BERETS AGENT' 'BETRAYED REAR'\n",
      " 'BEVERLY OUTLAW' 'BIKINI BORROWERS' 'BILKO ANONYMOUS' 'BILL OTHERS'\n",
      " 'BINGO TALENTED' 'BIRCH ANTITRUST' 'BIRD INDEPENDENCE' 'BIRDCAGE CASPER'\n",
      " 'BIRDS PERDITION' 'BLACKOUT PRIVATE' 'BLADE POLISH' 'BLANKET BEVERLY'\n",
      " 'BLINDNESS GUN' 'BLOOD ARGONAUTS' 'BLUES INSTINCT' 'BOILED DARES'\n",
      " 'BONNIE HOLOCAUST' 'BOOGIE AMELIE' 'BORN SPINAL' 'BORROWERS BEDAZZLED'\n",
      " 'BOULEVARD MOB' 'BOUND CHEAPER' 'BOWFINGER GABLES' 'BRANNIGAN SUNRISE'\n",
      " 'BRAVEHEART HUMAN' 'BREAKFAST GOLDFINGER' 'BREAKING HOME'\n",
      " 'BRIDE INTRIGUE' 'BRIGHT ENCOUNTERS' 'BRINGING HYSTERICAL'\n",
      " 'BROOKLYN DESERT' 'BROTHERHOOD BLANKET' 'BUBBLE GROSSE'\n",
      " 'BUCKET BROTHERHOOD' 'BUGSY SONG' 'BULL SHAWSHANK'\n",
      " 'BULWORTH COMMANDMENTS' 'BUNCH MINDS' 'BUTTERFLY CHOCOLAT' 'CABIN FLASH'\n",
      " 'CADDYSHACK JEDI' 'CALENDAR GUNFIGHT' 'CALIFORNIA BIRDS'\n",
      " 'CAMELOT VACATION' 'CAMPUS REMEMBER' 'CANDIDATE PERDITION'\n",
      " 'CANDLES GRAPES' 'CANYON STOCK' 'CAPER MOTIONS' 'CARIBBEAN LIBERTY'\n",
      " 'CAROL TEXAS' 'CARRIE BUNCH' 'CASABLANCA SUPER' 'CASPER DRAGONFLY'\n",
      " 'CASSIDY WYOMING' 'CASUALTIES ENCINO' 'CAT CONEHEADS' 'CAUSE DATE'\n",
      " 'CELEBRITY HORN' 'CENTER DINOSAUR' 'CHAINSAW UPTOWN' 'CHAMBER ITALIAN'\n",
      " 'CHAMPION FLATLINERS' 'CHANCE RESURRECTION' 'CHAPLIN LICENSE'\n",
      " 'CHARADE DUFFEL' 'CHARIOTS CONSPIRACY' 'CHASING FIGHT' 'CHEAPER CLYDE'\n",
      " 'CHICAGO NORTH' 'CHICKEN HELLFIGHTERS' 'CHILL LUCK' 'CHISUM BEHAVIOR'\n",
      " 'CHITTY LOCK' 'CHOCOLAT HARRY' 'CHRISTMAS MOONSHINE' 'CIDER DESIRE'\n",
      " 'CINCINATTI WHISPERER' 'CIRCUS YOUTH' 'CITIZEN SHREK' 'CLASH FREDDY'\n",
      " 'CLEOPATRA DEVIL' 'CLERKS ANGELS' 'CLOCKWORK PARADISE' 'CLONES PINOCCHIO'\n",
      " 'CLOSER BANG' 'CLUB GRAFFITI' 'CLUE GRAIL' 'CLUELESS BUCKET'\n",
      " 'CLYDE THEORY' 'COAST RAINBOW' 'COLDBLOODED DARLING' 'COLOR PHILADELPHIA'\n",
      " 'COMA HEAD' 'COMANCHEROS ENEMY' 'COMFORTS RUSH' 'COMMAND DARLING'\n",
      " 'CONEHEADS SMOOCHY' 'CONFESSIONS MAGUIRE' 'CONFIDENTIAL INTERVIEW'\n",
      " 'CONFUSED CANDLES' 'CONGENIALITY QUEST' 'CONNECTICUT TRAMP'\n",
      " 'CONNECTION MICROCOSMOS' 'CONQUERER NUTS' 'CONSPIRACY SPIRIT'\n",
      " 'CONTACT ANONYMOUS' 'CONTROL ANTHEM' 'CONVERSATION DOWNHILL' 'CORE SUIT'\n",
      " 'COWBOY DOOM' 'CRAFT OUTFIELD' 'CRANES RESERVOIR' 'CRAZY HOME'\n",
      " 'CREATURES SHAKESPEARE' 'CREEPERS KANE' 'CROOKED FROGMEN'\n",
      " 'CROSSROADS CASUALTIES' 'CROW GREASE' 'CRUELTY UNFORGIVEN'\n",
      " 'CRUSADE HONEY' 'CUPBOARD SINNERS' 'CURTAIN VIDEOTAPE' 'CYCLONE FAMILY'\n",
      " 'DADDY PITTSBURGH' 'DAISY MENAGERIE' 'DALMATIONS SWEDEN' 'DANCES NONE'\n",
      " 'DANCING FEVER' 'DANGEROUS UPTOWN' 'DARES PLUTO' 'DARKNESS WAR'\n",
      " 'DARKO DORADO' 'DARLING BREAKING' 'DARN FORRESTER' 'DATE SPEED'\n",
      " 'DAUGHTER MADIGAN' 'DAWN POND' 'DAY UNFAITHFUL' 'DECEIVER BETRAYED'\n",
      " 'DEEP CRUSADE' 'DEER VIRGINIAN' 'DESERT POSEIDON' 'DESIRE ALIEN'\n",
      " 'DESPERATE TRAINSPOTTING' 'DESTINATION JERK' 'DESTINY SATURDAY'\n",
      " 'DETAILS PACKER' 'DETECTIVE VISION' 'DEVIL DESIRE' 'DIARY PANIC'\n",
      " 'DINOSAUR SECRETARY' 'DIRTY ACE' 'DISCIPLE MOTHER' 'DISTURBING SCARFACE'\n",
      " 'DIVIDE MONSTER' 'DIVINE RESURRECTION' 'DIVORCE SHINING' 'DOCTOR GRAIL'\n",
      " 'DOGMA FAMILY' 'DOLLS RAGE' 'DONNIE ALLEY' 'DOOM DANCING'\n",
      " 'DOORS PRESIDENT' 'DORADO NOTTING' 'DOUBLE WRATH' 'DOUBTFIRE LABYRINTH'\n",
      " 'DOWNHILL ENOUGH' 'DOZEN LION' 'DRACULA CRYSTAL' 'DRAGON SQUAD'\n",
      " 'DRAGONFLY STRANGERS' 'DREAM PICKUP' 'DRIFTER COMMANDMENTS'\n",
      " 'DRIVER ANNIE' 'DRIVING POLISH' 'DROP WATERFRONT' 'DRUMLINE CYCLONE'\n",
      " 'DRUMS DYNAMITE' 'DUCK RACER' 'DUDE BLINDNESS' 'DUFFEL APOCALYPSE'\n",
      " 'DUMBO LUST' 'DURHAM PANKY' 'DWARFS ALTER' 'DYING MAKER'\n",
      " 'DYNAMITE TARZAN' 'EAGLES PANKY' 'EARLY HOME' 'EARRING INSTINCT'\n",
      " 'EARTH VISION' 'EASY GLADIATOR' 'EDGE KISSING' 'EFFECT GLADIATOR'\n",
      " 'EGG IGBY' 'EGYPT TENENBAUMS' 'ELEMENT FREDDY' 'ELEPHANT TROJAN'\n",
      " 'ELF MURDER' 'ELIZABETH SHANE' 'EMPIRE MALKOVICH' 'ENCINO ELF'\n",
      " 'ENCOUNTERS CURTAIN' 'ENDING CROWDS' 'ENEMY ODDS' 'ENGLISH BULWORTH'\n",
      " 'ENOUGH RAGING' 'ENTRAPMENT SATISFACTION' 'ESCAPE METROPOLIS'\n",
      " 'EVE RESURRECTION' 'EVERYONE CRAFT' 'EVOLUTION ALTER' 'EXCITEMENT EVE'\n",
      " 'EXORCIST STING' 'EXPECATIONS NATURAL' 'EXPENDABLE STALLION'\n",
      " 'EXPRESS LONELY' 'EXTRAORDINARY CONQUERER' 'EYES DRIVING'\n",
      " 'FACTORY DRAGON' 'FALCON VOLUME' 'FAMILY SWEET' 'FANTASIA PARK'\n",
      " 'FANTASY TROOPERS' 'FARGO GANDHI' 'FATAL HAUNTED' 'FEATHERS METAL'\n",
      " 'FELLOWSHIP AUTUMN' 'FERRIS MOTHER' 'FEUD FROGMEN' 'FEVER EMPIRE'\n",
      " 'FICTION CHRISTMAS' 'FIDDLER LOST' 'FIDELITY DEVIL' 'FIGHT JAWBREAKER'\n",
      " 'FINDING ANACONDA' 'FIRE WOLVES' 'FIREBALL PHILADELPHIA' 'FISH OPUS'\n",
      " 'FLAMINGOS CONNECTICUT' 'FLASH WARS' 'FLATLINERS KILLER' 'FLIGHT LIES'\n",
      " 'FLINTSTONES HAPPINESS' 'FLYING HOOK' 'FOOL MOCKINGBIRD'\n",
      " 'FOREVER CANDIDATE' 'FORREST SONS' 'FORRESTER COMANCHEROS'\n",
      " 'FORWARD TEMPLE' 'FREAKY POCUS' 'FREDDY STORM' 'FREEDOM CLEOPATRA'\n",
      " 'FRENCH HOLIDAY' 'FRIDA SLIPPER' 'FRISCO FORREST' 'FROGMEN BREAKING'\n",
      " 'FRONTIER CABIN' 'FROST HEAD' 'FUGITIVE MAGUIRE' 'FULL FLATLINERS'\n",
      " 'FURY MURDER' 'GABLES METROPOLIS' 'GALAXY SWEETHEARTS' 'GAMES BOWFINGER'\n",
      " 'GANDHI KWAI' 'GANGS PRIDE' 'GARDEN ISLAND' 'GASLIGHT CRUSADE'\n",
      " 'GATHERING CALENDAR' 'GENTLEMEN STAGE' 'GHOST GROUNDHOG'\n",
      " 'GHOSTBUSTERS ELF' 'GIANT TROOPERS' 'GILBERT PELICAN' 'GILMORE BOILED'\n",
      " 'GLASS DYING' 'GLEAMING JAWBREAKER' 'GLORY TRACY' 'GO PURPLE'\n",
      " 'GODFATHER DIARY' 'GOLD RIVER' 'GOLDFINGER SENSIBILITY' 'GOLDMINE TYCOON'\n",
      " 'GONE TROUBLE' 'GOODFELLAS SALUTE' 'GORGEOUS BINGO' 'GOSFORD DONNIE'\n",
      " 'GRACELAND DYNAMITE' 'GRADUATE LORD' 'GRAFFITI LOVE' 'GRAIL FRANKENSTEIN'\n",
      " 'GRAPES FURY' 'GREASE YOUTH' 'GREATEST NORTH' 'GREEDY ROOTS'\n",
      " 'GREEK EVERYONE' 'GRINCH MASSAGE' 'GRIT CLOCKWORK' 'GROOVE FICTION'\n",
      " 'GROSSE WONDERFUL' 'GROUNDHOG UNCUT' 'GUN BONNIE' 'GUNFIGHT MOON'\n",
      " 'GUNFIGHTER MUSSOLINI' 'GUYS FALCON' 'HALF OUTFIELD' 'HALL CASSIDY'\n",
      " 'HALLOWEEN NUTS' 'HAMLET WISDOM' 'HANDICAP BOONDOCK' 'HANGING DEEP'\n",
      " 'HANKY OCTOBER' 'HANOVER GALAXY' 'HAPPINESS UNITED' 'HARDLY ROBBERS'\n",
      " 'HAROLD FRENCH' 'HARPER DYING' 'HARRY IDAHO' 'HAUNTED ANTITRUST'\n",
      " 'HAUNTING PIANIST' 'HAWK CHILL' 'HEAD STRANGER' 'HEARTBREAKERS BRIGHT'\n",
      " 'HEAVEN FREEDOM' 'HEAVENLY GUN' 'HEAVYWEIGHTS BEAST' 'HEDWIG ALTER'\n",
      " 'HELLFIGHTERS SIERRA' 'HIGH ENCINO' 'HIGHBALL POTTER' 'HILLS NEIGHBORS'\n",
      " 'HOBBIT ALIEN' 'HOLES BRANNIGAN' 'HOLIDAY GAMES' 'HOLLOW JEOPARDY'\n",
      " 'HOLLYWOOD ANONYMOUS' 'HOLOCAUST HIGHBALL' 'HOLY TADPOLE' 'HOME PITY'\n",
      " 'HOMEWARD CIDER' 'HOMICIDE PEACH' 'HONEY TIES' 'HOOK CHARIOTS'\n",
      " 'HOOSIERS BIRDCAGE' 'HOPE TOOTSIE' 'HORN WORKING' 'HORROR REIGN'\n",
      " 'HOTEL HAPPINESS' 'HOURS RAGE' 'HOUSE DYNAMITE' 'HUMAN GRAFFITI'\n",
      " 'HUNCHBACK IMPOSSIBLE' 'HUNGER ROOF' 'HUNTER ALTER' 'HUNTING MUSKETEERS'\n",
      " 'HURRICANE AFFAIR' 'HUSTLER PARTY' 'HYDE DOCTOR' 'HYSTERICAL GRAIL'\n",
      " 'ICE CROSSING' 'IDAHO LOVE' 'IDENTITY LOVER' 'IDOLS SNATCHERS'\n",
      " 'IGBY MAKER' 'ILLUSION AMELIE' 'IMAGE PRINCESS' 'IMPACT ALADDIN'\n",
      " 'IMPOSSIBLE PREJUDICE' 'INCH JET' 'INDEPENDENCE HOTEL' 'INDIAN LOVE'\n",
      " 'INFORMER DOUBLE' 'INNOCENT USUAL' 'INSECTS STONE' 'INSIDER ARIZONA'\n",
      " 'INSTINCT AIRPORT' 'INTENTIONS EMPIRE' 'INTERVIEW LIAISONS'\n",
      " 'INTOLERABLE INTENTIONS' 'INTRIGUE WORST' 'INVASION CYCLONE' 'IRON MOON'\n",
      " 'ISHTAR ROCKETEER' 'ISLAND EXORCIST' 'ITALIAN AFRICAN' 'JACKET FRISCO'\n",
      " 'JADE BUNCH' 'JAPANESE RUN' 'JASON TRAP' 'JAWBREAKER BROOKLYN'\n",
      " 'JAWS HARRY' 'JEDI BENEATH' 'JEEPERS WEDDING' 'JEKYLL FROGMEN'\n",
      " 'JEOPARDY ENCINO' 'JERICHO MULAN' 'JERK PAYCHECK' 'JERSEY SASSY'\n",
      " 'JET NEIGHBORS' 'JINGLE SAGEBRUSH' 'JOON NORTHWEST' 'JUGGLER HARDLY'\n",
      " 'JUMANJI BLADE' 'JUMPING WRATH' 'JUNGLE CLOSER' 'KANE EXORCIST'\n",
      " 'KARATE MOON' 'KICK SAVANNAH' 'KILLER INNOCENT' 'KING EVOLUTION'\n",
      " 'KISS GLORY' 'KISSING DOLLS' 'KNOCK WARLOCK' 'KRAMER CHOCOLATE'\n",
      " 'KWAI HOMEWARD' 'LABYRINTH LEAGUE' 'LADY STAGE' 'LADYBUGS ARMAGEDDON'\n",
      " 'LAMBS CINCINATTI' 'LANGUAGE COWBOY' 'LAWLESS VISION' 'LAWRENCE LOVE'\n",
      " 'LEAGUE HELLFIGHTERS' 'LEATHERNECKS DWARFS' 'LEBOWSKI SOLDIERS'\n",
      " 'LEGALLY SECRETARY' 'LEGEND JEDI' 'LESSON CLEOPATRA' 'LIAISONS SWEET'\n",
      " 'LIBERTY MAGNIFICENT' 'LICENSE WEEKEND' 'LIES TREATMENT' 'LIFE TWISTED'\n",
      " 'LIGHTS DEER' 'LION UNCUT' 'LOATHING LEGALLY' 'LOCK REAR' 'LOLA AGENT'\n",
      " 'LOLITA WORLD' 'LONELY ELEPHANT' 'LORD ARIZONA' 'LOSE INCH'\n",
      " 'LOSER HUSTLER' 'LOST BIRD' 'LOUISIANA HARRY' 'LOVE SUICIDES'\n",
      " 'LOVELY JINGLE' 'LOVER TRUMAN' 'LOVERBOY ATTACKS' 'LUCK OPUS'\n",
      " 'LUCKY FLYING' 'LUKE MUMMY' 'LUST LOCK' 'MADIGAN DORADO' 'MADISON TRAP'\n",
      " 'MADNESS ATTACKS' 'MADRE GABLES' 'MAGIC MALLRATS' 'MAGNIFICENT CHITTY'\n",
      " 'MAGNOLIA FORRESTER' 'MAGUIRE APACHE' 'MAIDEN HOME' 'MAJESTIC FLOATS'\n",
      " 'MAKER GABLES' 'MALKOVICH PET' 'MALLRATS UNITED' 'MALTESE HOPE'\n",
      " 'MANCHURIAN CURTAIN' 'MANNEQUIN WORST' 'MARRIED GO' 'MARS ROMAN'\n",
      " 'MASK PEACH' 'MASKED BUBBLE' 'MASSACRE USUAL' 'MASSAGE IMAGE'\n",
      " 'MATRIX SNOWMAN' 'MAUDE MOD' 'MEET CHOCOLATE' 'MEMENTO ZOOLANDER'\n",
      " 'MENAGERIE RUSHMORE' 'MERMAID INSECTS' 'METAL ARMAGEDDON'\n",
      " 'METROPOLIS COMA' 'MICROCOSMOS PARADISE' 'MIDNIGHT WESTWARD'\n",
      " 'MIDSUMMER GROUNDHOG' 'MIGHTY LUCK' 'MILE MULAN' 'MILLION ACE'\n",
      " 'MINDS TRUMAN' 'MINE TITANS' 'MINORITY KISS' 'MIRACLE VIRTUAL'\n",
      " 'MISSION ZOOLANDER' 'MIXED DOORS' 'MOB DUFFEL' 'MOCKINGBIRD HOLLYWOOD'\n",
      " 'MOD SECRETARY' 'MODEL FISH' 'MODERN DORADO' 'MONEY HAROLD'\n",
      " 'MONSOON CAUSE' 'MONSTER SPARTACUS' 'MONTEREY LABYRINTH'\n",
      " 'MONTEZUMA COMMAND' 'MOON BUNCH' 'MOONSHINE CABIN' 'MOONWALKER FOOL'\n",
      " 'MOSQUITO ARMAGEDDON' 'MOTHER OLEANDER' 'MOTIONS DETAILS' 'MOULIN WAKE'\n",
      " 'MOURNING PURPLE' 'MOVIE SHAKESPEARE' 'MULAN MOON' 'MULHOLLAND BEAST'\n",
      " 'MUMMY CREATURES' 'MURDER ANTITRUST' 'MUSCLE BRIGHT' 'MUSIC BOONDOCK'\n",
      " 'MUSKETEERS WAIT' 'MUSSOLINI SPOILERS' 'MYSTIC TRUMAN' 'NAME DETECTIVE'\n",
      " 'NASH CHOCOLAT' 'NATIONAL STORY' 'NATURAL STOCK' 'NECKLACE OUTBREAK'\n",
      " 'NEIGHBORS CHARADE' 'NEMO CAMPUS' 'NETWORK PEAK' 'NEWSIES STORY'\n",
      " 'NEWTON LABYRINTH' 'NIGHTMARE CHILL' 'NONE SPIKING' 'NOON PAPI'\n",
      " 'NORTH TEQUILA' 'NORTHWEST POLISH' 'NOTORIOUS REUNION'\n",
      " 'NOTTING SPEAKEASY' 'NOVOCAINE FLIGHT' 'NUTS TIES' 'OCTOBER SUBMARINE'\n",
      " 'ODDS BOOGIE' 'OKLAHOMA JUMANJI' 'OLEANDER CLUE' 'OPEN AFRICAN'\n",
      " 'OPERATION OPERATION' 'OPPOSITE NECKLACE' 'OPUS ICE' 'ORANGE GRAPES'\n",
      " 'ORIENT CLOSER' 'OSCAR GOLD' 'OTHERS SOUP' 'OUTBREAK DIVINE'\n",
      " 'OUTFIELD MASSACRE' 'OUTLAW HANKY' 'OZ LIAISONS' 'PACIFIC AMISTAD'\n",
      " 'PACKER MADIGAN' 'PAJAMA JAWBREAKER' 'PANIC CLUB' 'PANKY SUBMARINE'\n",
      " 'PANTHER REDS' 'PAPI NECKLACE' 'PARADISE SABRINA' 'PARIS WEEKEND'\n",
      " 'PARK CITIZEN' 'PARTY KNOCK' 'PAST SUICIDES' 'PATHS CONTROL'\n",
      " 'PATIENT SISTER' 'PATRIOT ROMAN' 'PATTON INTERVIEW' 'PAYCHECK WAIT'\n",
      " 'PEACH INNOCENT' 'PEAK FOREVER' 'PELICAN COMFORTS' 'PERFECT GROOVE'\n",
      " 'PERSONAL LADYBUGS' 'PET HAUNTING' 'PHANTOM GLORY' 'PHILADELPHIA WIFE'\n",
      " 'PIANIST OUTFIELD' 'PICKUP DRIVING' 'PILOT HOOSIERS' 'PINOCCHIO SIMON'\n",
      " 'PIRATES ROXANNE' 'PITTSBURGH HUNCHBACK' 'PITY BOUND' 'PIZZA JUMANJI'\n",
      " 'PLATOON INSTINCT' 'PLUTO OLEANDER' 'POCUS PULP' 'POLISH BROOKLYN'\n",
      " 'POLLOCK DELIVERANCE' 'POND SEATTLE' 'POSEIDON FOREVER' 'POTLUCK MIXED'\n",
      " 'POTTER CONNECTICUT' 'PREJUDICE OLEANDER' 'PRESIDENT BANG' 'PRIDE ALAMO'\n",
      " 'PRIMARY GLASS' 'PRINCESS GIANT' 'PRIVATE DROP' 'PRIX UNDEFEATED'\n",
      " 'PULP BEVERLY' 'PUNK DIVORCE' 'PURE RUNNER' 'PURPLE MOVIE' 'QUEEN LUKE'\n",
      " 'QUEST MUSSOLINI' 'QUILLS BULL' 'RACER EGG' 'RAGE GAMES'\n",
      " 'RAGING AIRPLANE' 'RANDOM GO' 'RANGE MOONWALKER' 'REAP UNFAITHFUL'\n",
      " 'REAR TRADING' 'REBEL AIRPORT' 'RECORDS ZORRO' 'REDEMPTION COMFORTS'\n",
      " 'REDS POCUS' 'REEF SALUTE' 'REIGN GENTLEMEN' 'REMEMBER DIARY'\n",
      " 'REQUIEM TYCOON' 'RESERVOIR ADAPTATION' 'RESURRECTION SILVERADO'\n",
      " 'REUNION WITCHES' 'RIDER CADDYSHACK' 'RIDGEMONT SUBMARINE' 'RIGHT CRANES'\n",
      " 'RINGS HEARTBREAKERS' 'RIVER OUTLAW' 'ROAD ROXANNE' 'ROBBERS JOON'\n",
      " 'ROBBERY BRIGHT' 'ROCK INSTINCT' 'ROCKETEER MOTHER' 'ROCKY WAR'\n",
      " 'ROLLERCOASTER BRINGING' 'ROMAN PUNK' 'ROOM ROMAN' 'ROOTS REMEMBER'\n",
      " 'ROSES TREASURE' 'ROUGE SQUAD' 'ROXANNE REBEL' 'RUGRATS SHAKESPEARE'\n",
      " 'RULES HUMAN' 'RUN PACIFIC' 'RUNAWAY TENENBAUMS' 'RUNNER MADIGAN'\n",
      " 'RUSH GOODFELLAS' 'RUSHMORE MERMAID' 'SABRINA MIDNIGHT'\n",
      " 'SADDLE ANTITRUST' 'SAGEBRUSH CLUELESS' 'SAINTS BRIDE' 'SALUTE APOLLO'\n",
      " 'SAMURAI LION' 'SANTA PARIS' 'SASSY PACKER' 'SATISFACTION CONFIDENTIAL'\n",
      " 'SATURDAY LAMBS' 'SATURN NAME' 'SAVANNAH TOWN' 'SCALAWAG DUCK'\n",
      " 'SCARFACE BANG' 'SCHOOL JACKET' 'SCISSORHANDS SLUMS' 'SCORPION APOLLO'\n",
      " 'SEA VIRGIN' 'SEABISCUIT PUNK' 'SEARCHERS WAIT' 'SEATTLE EXPECATIONS'\n",
      " 'SECRET GROUNDHOG' 'SECRETARY ROUGE' 'SECRETS PARADISE' 'SENSE GREEK'\n",
      " 'SENSIBILITY REAR' 'SEVEN SWARM' 'SHAKESPEARE SADDLE' 'SHANE DARKNESS'\n",
      " 'SHANGHAI TYCOON' 'SHAWSHANK BUBBLE' 'SHEPHERD MIDSUMMER' 'SHINING ROSES'\n",
      " 'SHIP WONDERLAND' 'SHOCK CABIN' 'SHOOTIST SUPERFLY' 'SHOW LORD'\n",
      " 'SHREK LICENSE' 'SHRUNK DIVINE' 'SIDE ARK' 'SIEGE MADRE' 'SIERRA DIVIDE'\n",
      " 'SILENCE KANE' 'SILVERADO GOLDFINGER' 'SIMON NORTH' 'SINNERS ATLANTIS'\n",
      " 'SLACKER LIAISONS' 'SLEEPING SUSPECTS' 'SLEEPLESS MONSOON'\n",
      " 'SLEEPY JAPANESE' 'SLEUTH ORIENT' 'SLING LUKE' 'SLIPPER FIDELITY'\n",
      " 'SLUMS DUCK' 'SMILE EARRING' 'SMOKING BARBARELLA' 'SMOOCHY CONTROL'\n",
      " 'SNATCH SLIPPER' 'SNATCHERS MONTEZUMA' 'SNOWMAN ROLLERCOASTER'\n",
      " 'SOLDIERS EVOLUTION' 'SOMETHING DUCK' 'SONG HEDWIG' 'SONS INTERVIEW'\n",
      " 'SORORITY QUEEN' 'SOUP WISDOM' 'SOUTH WAIT' 'SPARTACUS CHEAPER'\n",
      " 'SPEAKEASY DATE' 'SPEED SUIT' 'SPICE SORORITY' 'SPIKING ELEMENT'\n",
      " 'SPINAL ROCKY' 'SPIRIT FLINTSTONES' 'SPIRITED CASUALTIES' 'SPLASH GUMP'\n",
      " 'SPLENDOR PATTON' 'SPOILERS HELLFIGHTERS' 'SPY MILE' 'SQUAD FISH'\n",
      " 'STAGE WORLD' 'STAGECOACH ARMAGEDDON' 'STALLION SUNDANCE'\n",
      " 'STAMPEDE DISTURBING' 'STAR OPERATION' 'STATE WASTELAND' 'STEEL SANTA'\n",
      " 'STEERS ARMAGEDDON' 'STEPMOM DREAM' 'STING PERSONAL' 'STOCK GLASS'\n",
      " 'STONE FIRE' 'STORM HAPPINESS' 'STORY SIDE' 'STRAIGHT HOURS'\n",
      " 'STRANGELOVE DESIRE' 'STRANGER STRANGERS' 'STRANGERS GRAFFITI'\n",
      " 'STREAK RIDGEMONT' 'STREETCAR INTENTIONS' 'STRICTLY SCARFACE'\n",
      " 'SUBMARINE BED' 'SUGAR WONKA' 'SUIT WALLS' 'SUMMER SCARFACE'\n",
      " 'SUN CONFESSIONS' 'SUNDANCE INVASION' 'SUNRISE LEAGUE' 'SUNSET RACER'\n",
      " 'SUPER WYOMING' 'SUPERFLY TRIP' 'SUSPECTS QUILLS' 'SWARM GOLD'\n",
      " 'SWEDEN SHINING' 'SWEET BROTHERHOOD' 'SWEETHEARTS SUSPECTS'\n",
      " 'TALENTED HOMICIDE' 'TARZAN VIDEOTAPE' 'TAXI KICK' 'TEEN APOLLO'\n",
      " 'TELEGRAPH VOYAGE' 'TELEMARK HEARTBREAKERS' 'TEMPLE ATTRACTION'\n",
      " 'TENENBAUMS COMMAND' 'TEQUILA PAST' 'TERMINATOR CLUB' 'TEXAS WATCH'\n",
      " 'THEORY MERMAID' 'THIEF PELICAN' 'THIN SAGEBRUSH' 'TIES HUNGER'\n",
      " 'TIGHTS DAWN' 'TIMBERLAND SKY' 'TITANIC BOONDOCK' 'TITANS JERK'\n",
      " 'TOMATOES HELLFIGHTERS' 'TOMORROW HUSTLER' 'TOOTSIE PILOT' 'TORQUE BOUND'\n",
      " 'TOURIST PELICAN' 'TOWERS HURRICANE' 'TOWN ARK' 'TRACY CIDER'\n",
      " 'TRADING PINOCCHIO' 'TRAFFIC HOBBIT' 'TRAIN BUNCH'\n",
      " 'TRAINSPOTTING STRANGERS' 'TRAMP OTHERS' 'TRANSLATION SUMMER' 'TRAP GUYS'\n",
      " 'TREATMENT JEKYLL' 'TRIP NEWTON' 'TROJAN TOMORROW' 'TROOPERS METAL'\n",
      " 'TROUBLE DATE' 'TRUMAN CRAZY' 'TURN STAR' 'TUXEDO MILE' 'TWISTED PIRATES'\n",
      " 'TYCOON GATHERING' 'UNBREAKABLE KARATE' 'UNCUT SUICIDES'\n",
      " 'UNDEFEATED DALMATIONS' 'UNFAITHFUL KILL' 'UNFORGIVEN ZOOLANDER'\n",
      " 'UNITED PILOT' 'UNTOUCHABLES SUNRISE' 'UPRISING UPTOWN' 'UPTOWN YOUNG'\n",
      " 'USUAL UNTOUCHABLES' 'VACATION BOONDOCK' 'VALENTINE VANISHING'\n",
      " 'VALLEY PACKER' 'VAMPIRE WHALE' 'VANILLA DAY' 'VANISHED GARDEN'\n",
      " 'VANISHING ROCKY' 'VARSITY TRIP' 'VELVET TERMINATOR' 'VERTIGO NORTHWEST'\n",
      " 'VICTORY ACADEMY' 'VIDEOTAPE ARSENIC' 'VIETNAM SMOOCHY' 'VIRGIN DAISY'\n",
      " 'VIRGINIAN PLUTO' 'VIRTUAL SPOILERS' 'VISION TORQUE' 'VOICE PEACH'\n",
      " 'VOLCANO TEXAS' 'VOYAGE LEGALLY' 'WAGON JAWS' 'WAIT CIDER'\n",
      " 'WANDA CHAMBER' 'WAR NOTTING' 'WARDROBE PHANTOM' 'WARLOCK WEREWOLF'\n",
      " 'WARS PLUTO' 'WASH HEAVENLY' 'WASTELAND DIVINE' 'WATCH TRACY'\n",
      " 'WATERFRONT DELIVERANCE' 'WATERSHIP FRONTIER' 'WEDDING APOLLO'\n",
      " 'WEEKEND PERSONAL' 'WEREWOLF LOLA' 'WEST LION' 'WESTWARD SEABISCUIT'\n",
      " 'WHALE BIKINI' 'WHISPERER GIANT' 'WIFE TURN' 'WILD APOLLO' 'WILLOW TRACY'\n",
      " 'WIND PHANTOM' 'WINDOW SIDE' 'WISDOM WORKER' 'WITCHES PANIC'\n",
      " 'WIZARD COLDBLOODED' 'WOLVES DESIRE' 'WOMEN DORADO' 'WON DARES'\n",
      " 'WONDERFUL DROP' 'WONDERLAND CHRISTMAS' 'WONKA SEA' 'WORDS HUNTER'\n",
      " 'WORKER TARZAN' 'WORKING MICROCOSMOS' 'WORLD LEATHERNECKS' 'WORST BANGER'\n",
      " 'WRATH MILE' 'WRONG BEHAVIOR' 'WYOMING STORM' 'YENTL IDAHO'\n",
      " 'YOUNG LANGUAGE' 'YOUTH KICK' 'ZHIVAGO CORE' 'ZOOLANDER FICTION'\n",
      " 'ZORRO ARK']\n"
     ]
    }
   ],
   "source": [
    "print(data['title'].unique())"
   ]
  },
  {
   "cell_type": "code",
   "execution_count": 70,
   "id": "7059d2a4",
   "metadata": {},
   "outputs": [
    {
     "name": "stdout",
     "output_type": "stream",
     "text": [
      "ACADEMY DINOSAUR      1\n",
      "PERSONAL LADYBUGS     1\n",
      "PARK CITIZEN          1\n",
      "PARTY KNOCK           1\n",
      "PAST SUICIDES         1\n",
      "                     ..\n",
      "FULL FLATLINERS       1\n",
      "FURY MURDER           1\n",
      "GABLES METROPOLIS     1\n",
      "GALAXY SWEETHEARTS    1\n",
      "ZORRO ARK             1\n",
      "Name: title, Length: 958, dtype: int64\n"
     ]
    }
   ],
   "source": [
    "### No duplicates in film tiles, the only column where values need to be unique\n",
    "print(data['title'].value_counts())"
   ]
  },
  {
   "cell_type": "code",
   "execution_count": 71,
   "id": "29352cb3",
   "metadata": {},
   "outputs": [],
   "source": [
    "##Data preprocessing"
   ]
  },
  {
   "cell_type": "code",
   "execution_count": 72,
   "id": "5ed298ef",
   "metadata": {
    "scrolled": true
   },
   "outputs": [
    {
     "data": {
      "text/plain": [
       "3"
      ]
     },
     "execution_count": 72,
     "metadata": {},
     "output_type": "execute_result"
    }
   ],
   "source": [
    "data.rental_price.nunique()"
   ]
  },
  {
   "cell_type": "code",
   "execution_count": 73,
   "id": "52a6bc25",
   "metadata": {},
   "outputs": [
    {
     "data": {
      "text/plain": [
       "array([0.99, 4.99, 2.99])"
      ]
     },
     "execution_count": 73,
     "metadata": {},
     "output_type": "execute_result"
    }
   ],
   "source": [
    "data.rental_price.unique()"
   ]
  },
  {
   "cell_type": "code",
   "execution_count": 74,
   "id": "2a139b0b",
   "metadata": {},
   "outputs": [],
   "source": [
    "### Limited and predefined price categories, so rental_price will be transformed into a categorical variable"
   ]
  },
  {
   "cell_type": "code",
   "execution_count": 75,
   "id": "a7125273",
   "metadata": {},
   "outputs": [
    {
     "data": {
      "text/html": [
       "<div>\n",
       "<style scoped>\n",
       "    .dataframe tbody tr th:only-of-type {\n",
       "        vertical-align: middle;\n",
       "    }\n",
       "\n",
       "    .dataframe tbody tr th {\n",
       "        vertical-align: top;\n",
       "    }\n",
       "\n",
       "    .dataframe thead th {\n",
       "        text-align: right;\n",
       "    }\n",
       "</style>\n",
       "<table border=\"1\" class=\"dataframe\">\n",
       "  <thead>\n",
       "    <tr style=\"text-align: right;\">\n",
       "      <th></th>\n",
       "      <th>number_of_copies</th>\n",
       "      <th>historical_rental_volume</th>\n",
       "      <th>average_rental_duration_in_days</th>\n",
       "      <th>length</th>\n",
       "      <th>rented_last_month</th>\n",
       "    </tr>\n",
       "  </thead>\n",
       "  <tbody>\n",
       "    <tr>\n",
       "      <th>count</th>\n",
       "      <td>958.000000</td>\n",
       "      <td>958.000000</td>\n",
       "      <td>958.000000</td>\n",
       "      <td>958.000000</td>\n",
       "      <td>958.000000</td>\n",
       "    </tr>\n",
       "    <tr>\n",
       "      <th>mean</th>\n",
       "      <td>4.780793</td>\n",
       "      <td>16.748434</td>\n",
       "      <td>5.026096</td>\n",
       "      <td>115.490605</td>\n",
       "      <td>0.175365</td>\n",
       "    </tr>\n",
       "    <tr>\n",
       "      <th>std</th>\n",
       "      <td>1.814825</td>\n",
       "      <td>6.677241</td>\n",
       "      <td>0.774696</td>\n",
       "      <td>40.471844</td>\n",
       "      <td>0.380478</td>\n",
       "    </tr>\n",
       "    <tr>\n",
       "      <th>min</th>\n",
       "      <td>2.000000</td>\n",
       "      <td>4.000000</td>\n",
       "      <td>2.000000</td>\n",
       "      <td>46.000000</td>\n",
       "      <td>0.000000</td>\n",
       "    </tr>\n",
       "    <tr>\n",
       "      <th>25%</th>\n",
       "      <td>3.000000</td>\n",
       "      <td>11.000000</td>\n",
       "      <td>5.000000</td>\n",
       "      <td>80.250000</td>\n",
       "      <td>0.000000</td>\n",
       "    </tr>\n",
       "    <tr>\n",
       "      <th>50%</th>\n",
       "      <td>5.000000</td>\n",
       "      <td>16.000000</td>\n",
       "      <td>5.000000</td>\n",
       "      <td>114.000000</td>\n",
       "      <td>0.000000</td>\n",
       "    </tr>\n",
       "    <tr>\n",
       "      <th>75%</th>\n",
       "      <td>6.000000</td>\n",
       "      <td>22.000000</td>\n",
       "      <td>5.000000</td>\n",
       "      <td>150.000000</td>\n",
       "      <td>0.000000</td>\n",
       "    </tr>\n",
       "    <tr>\n",
       "      <th>max</th>\n",
       "      <td>8.000000</td>\n",
       "      <td>34.000000</td>\n",
       "      <td>7.000000</td>\n",
       "      <td>185.000000</td>\n",
       "      <td>1.000000</td>\n",
       "    </tr>\n",
       "  </tbody>\n",
       "</table>\n",
       "</div>"
      ],
      "text/plain": [
       "       number_of_copies  historical_rental_volume  \\\n",
       "count        958.000000                958.000000   \n",
       "mean           4.780793                 16.748434   \n",
       "std            1.814825                  6.677241   \n",
       "min            2.000000                  4.000000   \n",
       "25%            3.000000                 11.000000   \n",
       "50%            5.000000                 16.000000   \n",
       "75%            6.000000                 22.000000   \n",
       "max            8.000000                 34.000000   \n",
       "\n",
       "       average_rental_duration_in_days      length  rented_last_month  \n",
       "count                       958.000000  958.000000         958.000000  \n",
       "mean                          5.026096  115.490605           0.175365  \n",
       "std                           0.774696   40.471844           0.380478  \n",
       "min                           2.000000   46.000000           0.000000  \n",
       "25%                           5.000000   80.250000           0.000000  \n",
       "50%                           5.000000  114.000000           0.000000  \n",
       "75%                           5.000000  150.000000           0.000000  \n",
       "max                           7.000000  185.000000           1.000000  "
      ]
     },
     "execution_count": 75,
     "metadata": {},
     "output_type": "execute_result"
    }
   ],
   "source": [
    "data['rental_price']= data['rental_price'].astype('object')\n",
    "data.describe()"
   ]
  },
  {
   "cell_type": "code",
   "execution_count": 55,
   "id": "e50622c5",
   "metadata": {},
   "outputs": [],
   "source": [
    "### rental_price is no longer an integer as it no longer shows up when describe() is prompted "
   ]
  },
  {
   "cell_type": "code",
   "execution_count": 56,
   "id": "24be3e8a",
   "metadata": {
    "scrolled": true
   },
   "outputs": [
    {
     "data": {
      "text/plain": [
       "0.99    326\n",
       "4.99    320\n",
       "2.99    312\n",
       "Name: rental_price, dtype: int64"
      ]
     },
     "execution_count": 56,
     "metadata": {},
     "output_type": "execute_result"
    }
   ],
   "source": [
    "data['rental_price'].value_counts()"
   ]
  },
  {
   "cell_type": "code",
   "execution_count": 101,
   "id": "7b2d30a9",
   "metadata": {},
   "outputs": [
    {
     "data": {
      "text/plain": [
       "array(['PG', 'G', 'NC-17', 'PG-13', 'R'], dtype=object)"
      ]
     },
     "execution_count": 101,
     "metadata": {},
     "output_type": "execute_result"
    }
   ],
   "source": [
    "data['rating'].unique()"
   ]
  },
  {
   "cell_type": "code",
   "execution_count": 102,
   "id": "f6234435",
   "metadata": {},
   "outputs": [
    {
     "data": {
      "text/plain": [
       "array(['Documentary', 'Horror', 'Family', 'Foreign', 'Comedy', 'Sports',\n",
       "       'Music', 'Animation', 'Action', 'New', 'Sci-Fi', 'Classics',\n",
       "       'Games', 'Children', 'Travel', 'Drama'], dtype=object)"
      ]
     },
     "execution_count": 102,
     "metadata": {},
     "output_type": "execute_result"
    }
   ],
   "source": [
    "data['category'].unique()"
   ]
  },
  {
   "cell_type": "code",
   "execution_count": 77,
   "id": "2e5eb881",
   "metadata": {},
   "outputs": [
    {
     "name": "stdout",
     "output_type": "stream",
     "text": [
      "<class 'pandas.core.frame.DataFrame'>\n",
      "RangeIndex: 958 entries, 0 to 957\n",
      "Data columns (total 9 columns):\n",
      " #   Column                           Non-Null Count  Dtype  \n",
      "---  ------                           --------------  -----  \n",
      " 0   title                            958 non-null    object \n",
      " 1   number_of_copies                 958 non-null    int64  \n",
      " 2   historical_rental_volume         958 non-null    int64  \n",
      " 3   rental_price                     958 non-null    object \n",
      " 4   average_rental_duration_in_days  958 non-null    float64\n",
      " 5   length                           958 non-null    int64  \n",
      " 6   rating                           958 non-null    object \n",
      " 7   category                         958 non-null    object \n",
      " 8   rented_last_month                958 non-null    int64  \n",
      "dtypes: float64(1), int64(4), object(4)\n",
      "memory usage: 67.5+ KB\n"
     ]
    }
   ],
   "source": [
    "data.info()"
   ]
  },
  {
   "cell_type": "code",
   "execution_count": 57,
   "id": "e643d928",
   "metadata": {},
   "outputs": [],
   "source": [
    "##Standardizing the titles"
   ]
  },
  {
   "cell_type": "code",
   "execution_count": 78,
   "id": "ea243bf2",
   "metadata": {},
   "outputs": [
    {
     "name": "stdout",
     "output_type": "stream",
     "text": [
      "0       academy dinosaur\n",
      "1         ace goldfinger\n",
      "2       adaptation holes\n",
      "3       affair prejudice\n",
      "4            african egg\n",
      "             ...        \n",
      "953       young language\n",
      "954           youth kick\n",
      "955         zhivago core\n",
      "956    zoolander fiction\n",
      "957            zorro ark\n",
      "Name: title, Length: 958, dtype: object\n"
     ]
    }
   ],
   "source": [
    "data['title']= data['title'].apply(lambda x: x.lower())\n",
    "print(data.title)"
   ]
  },
  {
   "cell_type": "code",
   "execution_count": 79,
   "id": "99b2edf3",
   "metadata": {},
   "outputs": [
    {
     "name": "stdout",
     "output_type": "stream",
     "text": [
      "0       Academy Dinosaur\n",
      "1         Ace Goldfinger\n",
      "2       Adaptation Holes\n",
      "3       Affair Prejudice\n",
      "4            African Egg\n",
      "             ...        \n",
      "953       Young Language\n",
      "954           Youth Kick\n",
      "955         Zhivago Core\n",
      "956    Zoolander Fiction\n",
      "957            Zorro Ark\n",
      "Name: title, Length: 958, dtype: object\n"
     ]
    }
   ],
   "source": [
    "data['title']= data['title'].apply(lambda x : x.title())\n",
    "print(data.title)"
   ]
  },
  {
   "cell_type": "code",
   "execution_count": 80,
   "id": "208e5529",
   "metadata": {},
   "outputs": [],
   "source": [
    "###EDA"
   ]
  },
  {
   "cell_type": "code",
   "execution_count": 81,
   "id": "169942d5",
   "metadata": {},
   "outputs": [
    {
     "data": {
      "text/html": [
       "<div>\n",
       "<style scoped>\n",
       "    .dataframe tbody tr th:only-of-type {\n",
       "        vertical-align: middle;\n",
       "    }\n",
       "\n",
       "    .dataframe tbody tr th {\n",
       "        vertical-align: top;\n",
       "    }\n",
       "\n",
       "    .dataframe thead th {\n",
       "        text-align: right;\n",
       "    }\n",
       "</style>\n",
       "<table border=\"1\" class=\"dataframe\">\n",
       "  <thead>\n",
       "    <tr style=\"text-align: right;\">\n",
       "      <th></th>\n",
       "      <th>number_of_copies</th>\n",
       "      <th>historical_rental_volume</th>\n",
       "      <th>average_rental_duration_in_days</th>\n",
       "      <th>length</th>\n",
       "      <th>rented_last_month</th>\n",
       "    </tr>\n",
       "  </thead>\n",
       "  <tbody>\n",
       "    <tr>\n",
       "      <th>number_of_copies</th>\n",
       "      <td>1.00</td>\n",
       "      <td>0.93</td>\n",
       "      <td>0.06</td>\n",
       "      <td>-0.04</td>\n",
       "      <td>0.18</td>\n",
       "    </tr>\n",
       "    <tr>\n",
       "      <th>historical_rental_volume</th>\n",
       "      <td>0.93</td>\n",
       "      <td>1.00</td>\n",
       "      <td>0.05</td>\n",
       "      <td>-0.03</td>\n",
       "      <td>0.15</td>\n",
       "    </tr>\n",
       "    <tr>\n",
       "      <th>average_rental_duration_in_days</th>\n",
       "      <td>0.06</td>\n",
       "      <td>0.05</td>\n",
       "      <td>1.00</td>\n",
       "      <td>-0.01</td>\n",
       "      <td>0.07</td>\n",
       "    </tr>\n",
       "    <tr>\n",
       "      <th>length</th>\n",
       "      <td>-0.04</td>\n",
       "      <td>-0.03</td>\n",
       "      <td>-0.01</td>\n",
       "      <td>1.00</td>\n",
       "      <td>-0.01</td>\n",
       "    </tr>\n",
       "    <tr>\n",
       "      <th>rented_last_month</th>\n",
       "      <td>0.18</td>\n",
       "      <td>0.15</td>\n",
       "      <td>0.07</td>\n",
       "      <td>-0.01</td>\n",
       "      <td>1.00</td>\n",
       "    </tr>\n",
       "  </tbody>\n",
       "</table>\n",
       "</div>"
      ],
      "text/plain": [
       "                                 number_of_copies  historical_rental_volume  \\\n",
       "number_of_copies                             1.00                      0.93   \n",
       "historical_rental_volume                     0.93                      1.00   \n",
       "average_rental_duration_in_days              0.06                      0.05   \n",
       "length                                      -0.04                     -0.03   \n",
       "rented_last_month                            0.18                      0.15   \n",
       "\n",
       "                                 average_rental_duration_in_days  length  \\\n",
       "number_of_copies                                            0.06   -0.04   \n",
       "historical_rental_volume                                    0.05   -0.03   \n",
       "average_rental_duration_in_days                             1.00   -0.01   \n",
       "length                                                     -0.01    1.00   \n",
       "rented_last_month                                           0.07   -0.01   \n",
       "\n",
       "                                 rented_last_month  \n",
       "number_of_copies                              0.18  \n",
       "historical_rental_volume                      0.15  \n",
       "average_rental_duration_in_days               0.07  \n",
       "length                                       -0.01  \n",
       "rented_last_month                             1.00  "
      ]
     },
     "execution_count": 81,
     "metadata": {},
     "output_type": "execute_result"
    }
   ],
   "source": [
    "datacorr= round(data.corr(),2)\n",
    "datacorr"
   ]
  },
  {
   "cell_type": "code",
   "execution_count": 82,
   "id": "1d8e84aa",
   "metadata": {},
   "outputs": [
    {
     "data": {
      "image/png": "[encoded data removed]",
      "text/plain": [
       "<Figure size 640x480 with 2 Axes>"
      ]
     },
     "metadata": {},
     "output_type": "display_data"
    }
   ],
   "source": [
    "mask = np.zeros_like(datacorr, dtype=bool)\n",
    "mask[np.triu_indices_from(mask)]= True\n",
    "sns.heatmap(datacorr, annot= True, mask=mask, cmap='RdYlBu')\n",
    "plt.show()"
   ]
  },
  {
   "cell_type": "code",
   "execution_count": 83,
   "id": "1340390c",
   "metadata": {},
   "outputs": [],
   "source": [
    "### There is evidence of multicollinearity between historical_rental_colume and number of copies. Therefore I will be dropping\n",
    "## historical_rental_volume, as the aim of this lab is to see what titles to stock up"
   ]
  },
  {
   "cell_type": "code",
   "execution_count": 84,
   "id": "5f55a112",
   "metadata": {},
   "outputs": [],
   "source": [
    "data= data.drop('historical_rental_volume', axis= 'columns')\n"
   ]
  },
  {
   "cell_type": "code",
   "execution_count": 39,
   "id": "37315148",
   "metadata": {},
   "outputs": [
    {
     "data": {
      "text/html": [
       "<div>\n",
       "<style scoped>\n",
       "    .dataframe tbody tr th:only-of-type {\n",
       "        vertical-align: middle;\n",
       "    }\n",
       "\n",
       "    .dataframe tbody tr th {\n",
       "        vertical-align: top;\n",
       "    }\n",
       "\n",
       "    .dataframe thead th {\n",
       "        text-align: right;\n",
       "    }\n",
       "</style>\n",
       "<table border=\"1\" class=\"dataframe\">\n",
       "  <thead>\n",
       "    <tr style=\"text-align: right;\">\n",
       "      <th></th>\n",
       "      <th>title</th>\n",
       "      <th>number_of_copies</th>\n",
       "      <th>rental_price</th>\n",
       "      <th>average_rental_duration_in_days</th>\n",
       "      <th>rented_last_month</th>\n",
       "    </tr>\n",
       "  </thead>\n",
       "  <tbody>\n",
       "    <tr>\n",
       "      <th>0</th>\n",
       "      <td>Academy Dinosaur</td>\n",
       "      <td>7</td>\n",
       "      <td>0.99</td>\n",
       "      <td>5.0</td>\n",
       "      <td>0</td>\n",
       "    </tr>\n",
       "    <tr>\n",
       "      <th>1</th>\n",
       "      <td>Ace Goldfinger</td>\n",
       "      <td>3</td>\n",
       "      <td>4.99</td>\n",
       "      <td>6.0</td>\n",
       "      <td>1</td>\n",
       "    </tr>\n",
       "    <tr>\n",
       "      <th>2</th>\n",
       "      <td>Adaptation Holes</td>\n",
       "      <td>4</td>\n",
       "      <td>2.99</td>\n",
       "      <td>3.0</td>\n",
       "      <td>0</td>\n",
       "    </tr>\n",
       "    <tr>\n",
       "      <th>3</th>\n",
       "      <td>Affair Prejudice</td>\n",
       "      <td>7</td>\n",
       "      <td>2.99</td>\n",
       "      <td>5.0</td>\n",
       "      <td>1</td>\n",
       "    </tr>\n",
       "    <tr>\n",
       "      <th>4</th>\n",
       "      <td>African Egg</td>\n",
       "      <td>3</td>\n",
       "      <td>2.99</td>\n",
       "      <td>7.0</td>\n",
       "      <td>1</td>\n",
       "    </tr>\n",
       "  </tbody>\n",
       "</table>\n",
       "</div>"
      ],
      "text/plain": [
       "              title  number_of_copies  rental_price  \\\n",
       "0  Academy Dinosaur                 7          0.99   \n",
       "1    Ace Goldfinger                 3          4.99   \n",
       "2  Adaptation Holes                 4          2.99   \n",
       "3  Affair Prejudice                 7          2.99   \n",
       "4       African Egg                 3          2.99   \n",
       "\n",
       "   average_rental_duration_in_days  rented_last_month  \n",
       "0                              5.0                  0  \n",
       "1                              6.0                  1  \n",
       "2                              3.0                  0  \n",
       "3                              5.0                  1  \n",
       "4                              7.0                  1  "
      ]
     },
     "execution_count": 39,
     "metadata": {},
     "output_type": "execute_result"
    }
   ],
   "source": [
    "data.head()"
   ]
  },
  {
   "cell_type": "code",
   "execution_count": 94,
   "id": "1d9adb46",
   "metadata": {
    "scrolled": false
   },
   "outputs": [
    {
     "name": "stderr",
     "output_type": "stream",
     "text": [
      "C:\\Users\\HP\\anaconda3\\lib\\site-packages\\seaborn\\distributions.py:2619: FutureWarning: `distplot` is a deprecated function and will be removed in a future version. Please adapt your code to use either `displot` (a figure-level function with similar flexibility) or `histplot` (an axes-level function for histograms).\n",
      "  warnings.warn(msg, FutureWarning)\n"
     ]
    },
    {
     "data": {
      "text/plain": [
       "<AxesSubplot:xlabel='number_of_copies', ylabel='Density'>"
      ]
     },
     "execution_count": 94,
     "metadata": {},
     "output_type": "execute_result"
    },
    {
     "data": {
      "image/png": "[encoded data removed]",
      "text/plain": [
       "<Figure size 640x480 with 1 Axes>"
      ]
     },
     "metadata": {},
     "output_type": "display_data"
    }
   ],
   "source": [
    "sns.distplot(data['number_of_copies']) # Appears normally distributed, therefore there is no need for transformation"
   ]
  },
  {
   "cell_type": "code",
   "execution_count": 96,
   "id": "c79caa58",
   "metadata": {},
   "outputs": [
    {
     "name": "stderr",
     "output_type": "stream",
     "text": [
      "C:\\Users\\HP\\anaconda3\\lib\\site-packages\\seaborn\\distributions.py:2619: FutureWarning: `distplot` is a deprecated function and will be removed in a future version. Please adapt your code to use either `displot` (a figure-level function with similar flexibility) or `histplot` (an axes-level function for histograms).\n",
      "  warnings.warn(msg, FutureWarning)\n"
     ]
    },
    {
     "data": {
      "text/plain": [
       "<AxesSubplot:xlabel='average_rental_duration_in_days', ylabel='Density'>"
      ]
     },
     "execution_count": 96,
     "metadata": {},
     "output_type": "execute_result"
    },
    {
     "data": {
      "image/png": "[encoded data removed]",
      "text/plain": [
       "<Figure size 640x480 with 1 Axes>"
      ]
     },
     "metadata": {},
     "output_type": "display_data"
    }
   ],
   "source": [
    "sns.distplot(data['average_rental_duration_in_days']) # Appears normally distributed, therefore no need for transformation"
   ]
  },
  {
   "cell_type": "code",
   "execution_count": 97,
   "id": "e7fe1b13",
   "metadata": {},
   "outputs": [
    {
     "name": "stderr",
     "output_type": "stream",
     "text": [
      "C:\\Users\\HP\\anaconda3\\lib\\site-packages\\seaborn\\distributions.py:2619: FutureWarning: `distplot` is a deprecated function and will be removed in a future version. Please adapt your code to use either `displot` (a figure-level function with similar flexibility) or `histplot` (an axes-level function for histograms).\n",
      "  warnings.warn(msg, FutureWarning)\n"
     ]
    },
    {
     "data": {
      "text/plain": [
       "<AxesSubplot:xlabel='length', ylabel='Density'>"
      ]
     },
     "execution_count": 97,
     "metadata": {},
     "output_type": "execute_result"
    },
    {
     "data": {
      "image/png": "[encoded data removed]",
      "text/plain": [
       "<Figure size 640x480 with 1 Axes>"
      ]
     },
     "metadata": {},
     "output_type": "display_data"
    }
   ],
   "source": [
    "sns.distplot(data['length']) # Data is normally distributed, although values are bunched towards the middle --owing to the\n",
    "#nature of the variable itself (I can't really think of 10 minute feature films....)"
   ]
  },
  {
   "cell_type": "code",
   "execution_count": null,
   "id": "95653ccd",
   "metadata": {},
   "outputs": [],
   "source": [
    "### Data Normalization"
   ]
  },
  {
   "cell_type": "code",
   "execution_count": 103,
   "id": "aba89439",
   "metadata": {},
   "outputs": [
    {
     "data": {
      "text/html": [
       "<div>\n",
       "<style scoped>\n",
       "    .dataframe tbody tr th:only-of-type {\n",
       "        vertical-align: middle;\n",
       "    }\n",
       "\n",
       "    .dataframe tbody tr th {\n",
       "        vertical-align: top;\n",
       "    }\n",
       "\n",
       "    .dataframe thead th {\n",
       "        text-align: right;\n",
       "    }\n",
       "</style>\n",
       "<table border=\"1\" class=\"dataframe\">\n",
       "  <thead>\n",
       "    <tr style=\"text-align: right;\">\n",
       "      <th></th>\n",
       "      <th>number_of_copies</th>\n",
       "      <th>average_rental_duration_in_days</th>\n",
       "      <th>length</th>\n",
       "      <th>rented_last_month</th>\n",
       "    </tr>\n",
       "  </thead>\n",
       "  <tbody>\n",
       "    <tr>\n",
       "      <th>0</th>\n",
       "      <td>1.223460</td>\n",
       "      <td>-0.033703</td>\n",
       "      <td>-0.729050</td>\n",
       "      <td>-0.461149</td>\n",
       "    </tr>\n",
       "    <tr>\n",
       "      <th>1</th>\n",
       "      <td>-0.981760</td>\n",
       "      <td>1.257800</td>\n",
       "      <td>-1.668465</td>\n",
       "      <td>2.168497</td>\n",
       "    </tr>\n",
       "    <tr>\n",
       "      <th>2</th>\n",
       "      <td>-0.430455</td>\n",
       "      <td>-2.616709</td>\n",
       "      <td>-1.619022</td>\n",
       "      <td>-0.461149</td>\n",
       "    </tr>\n",
       "    <tr>\n",
       "      <th>3</th>\n",
       "      <td>1.223460</td>\n",
       "      <td>-0.033703</td>\n",
       "      <td>0.037314</td>\n",
       "      <td>2.168497</td>\n",
       "    </tr>\n",
       "    <tr>\n",
       "      <th>4</th>\n",
       "      <td>-0.981760</td>\n",
       "      <td>2.549302</td>\n",
       "      <td>0.358693</td>\n",
       "      <td>2.168497</td>\n",
       "    </tr>\n",
       "  </tbody>\n",
       "</table>\n",
       "</div>"
      ],
      "text/plain": [
       "   number_of_copies  average_rental_duration_in_days    length  \\\n",
       "0          1.223460                        -0.033703 -0.729050   \n",
       "1         -0.981760                         1.257800 -1.668465   \n",
       "2         -0.430455                        -2.616709 -1.619022   \n",
       "3          1.223460                        -0.033703  0.037314   \n",
       "4         -0.981760                         2.549302  0.358693   \n",
       "\n",
       "   rented_last_month  \n",
       "0          -0.461149  \n",
       "1           2.168497  \n",
       "2          -0.461149  \n",
       "3           2.168497  \n",
       "4           2.168497  "
      ]
     },
     "execution_count": 103,
     "metadata": {},
     "output_type": "execute_result"
    }
   ],
   "source": [
    "X= data.select_dtypes(include =np.number)\n",
    "\n",
    "transformer= StandardScaler().fit(X)\n",
    "x_normalized = transformer.transform(X)\n",
    "x = pd.DataFrame(x_normalized)\n",
    "x.columns= X.columns\n",
    "x.head()"
   ]
  },
  {
   "cell_type": "code",
   "execution_count": 105,
   "id": "c6d6a5ee",
   "metadata": {},
   "outputs": [
    {
     "name": "stderr",
     "output_type": "stream",
     "text": [
      "C:\\Users\\HP\\AppData\\Local\\Temp\\ipykernel_10796\\301787283.py:1: DeprecationWarning: `np.object` is a deprecated alias for the builtin `object`. To silence this warning, use `object` by itself. Doing this will not modify any behavior and is safe. \n",
      "Deprecated in NumPy 1.20; for more details and guidance: https://numpy.org/devdocs/release/1.20.0-notes.html#deprecations\n",
      "  cat= data.select_dtypes(include= np.object)\n",
      "C:\\Users\\HP\\anaconda3\\lib\\site-packages\\pandas\\core\\algorithms.py:798: FutureWarning: In a future version, the Index constructor will not infer numeric dtypes when passed object-dtype sequences (matching Series behavior)\n",
      "  uniques = Index(uniques)\n"
     ]
    }
   ],
   "source": [
    "cat= data.select_dtypes(include= np.object)\n",
    "cat= cat.drop(['title'], axis =1)\n",
    "categorical = pd.get_dummies(cat, columns=['rental_price', 'rating', 'category'])"
   ]
  },
  {
   "cell_type": "code",
   "execution_count": null,
   "id": "598873a6",
   "metadata": {},
   "outputs": [],
   "source": [
    "### Train-Test Split and Training Model"
   ]
  },
  {
   "cell_type": "code",
   "execution_count": 106,
   "id": "2862cdd0",
   "metadata": {},
   "outputs": [],
   "source": [
    "y = data['rented_last_month'] #target\n",
    "X= np.concatenate((x, categorical), axis=1)"
   ]
  },
  {
   "cell_type": "code",
   "execution_count": 107,
   "id": "8f857dd7",
   "metadata": {},
   "outputs": [],
   "source": [
    "X_train, X_test, y_train, y_test= train_test_split(X, y, test_size=0.3, random_state=100)"
   ]
  },
  {
   "cell_type": "code",
   "execution_count": 108,
   "id": "a0a9853b",
   "metadata": {},
   "outputs": [],
   "source": [
    "classification= LogisticRegression(random_state=0, multi_class='multinomial').fit(X_train, y_train)"
   ]
  },
  {
   "cell_type": "code",
   "execution_count": 109,
   "id": "bb9b9185",
   "metadata": {},
   "outputs": [],
   "source": [
    "predictions= classification.predict(X_test)"
   ]
  },
  {
   "cell_type": "code",
   "execution_count": null,
   "id": "55eb8e28",
   "metadata": {},
   "outputs": [],
   "source": [
    "### Model Performance"
   ]
  },
  {
   "cell_type": "code",
   "execution_count": null,
   "id": "09ba415e",
   "metadata": {},
   "outputs": [],
   "source": [
    "###Based on these values alone, we can tell that there are not enough data points from one month alone \n",
    "### to produce an accurate prediction model!"
   ]
  },
  {
   "cell_type": "code",
   "execution_count": 110,
   "id": "b4e4e6b6",
   "metadata": {},
   "outputs": [
    {
     "data": {
      "text/plain": [
       "0    237\n",
       "1     51\n",
       "dtype: int64"
      ]
     },
     "execution_count": 110,
     "metadata": {},
     "output_type": "execute_result"
    }
   ],
   "source": [
    "pd.Series(predictions).value_counts()  "
   ]
  },
  {
   "cell_type": "code",
   "execution_count": 111,
   "id": "03d81a0b",
   "metadata": {},
   "outputs": [
    {
     "data": {
      "text/plain": [
       "0    237\n",
       "1     51\n",
       "Name: rented_last_month, dtype: int64"
      ]
     },
     "execution_count": 111,
     "metadata": {},
     "output_type": "execute_result"
    }
   ],
   "source": [
    "y_test.value_counts()"
   ]
  },
  {
   "cell_type": "code",
   "execution_count": 113,
   "id": "65de4670",
   "metadata": {},
   "outputs": [
    {
     "data": {
      "text/plain": [
       "array([[237,   0],\n",
       "       [  0,  51]], dtype=int64)"
      ]
     },
     "execution_count": 113,
     "metadata": {},
     "output_type": "execute_result"
    }
   ],
   "source": [
    "from sklearn.metrics import confusion_matrix\n",
    "confusion_matrix(y_test, predictions)"
   ]
  },
  {
   "cell_type": "code",
   "execution_count": 114,
   "id": "dc0dab0c",
   "metadata": {},
   "outputs": [
    {
     "data": {
      "text/plain": [
       "<AxesSubplot:>"
      ]
     },
     "execution_count": 114,
     "metadata": {},
     "output_type": "execute_result"
    },
    {
     "data": {
      "image/png": "[encoded data removed]",
      "text/plain": [
       "<Figure size 640x480 with 2 Axes>"
      ]
     },
     "metadata": {},
     "output_type": "display_data"
    }
   ],
   "source": [
    "cm= confusion_matrix(y_test, predictions)\n",
    "sns.heatmap(cm, annot=True, fmt='g')"
   ]
  },
  {
   "cell_type": "code",
   "execution_count": null,
   "id": "f2c11b7d",
   "metadata": {},
   "outputs": [],
   "source": [
    "### Accuracy -- which doesn't matter in this case because we know that the model is flawed"
   ]
  },
  {
   "cell_type": "code",
   "execution_count": 115,
   "id": "7a6a2e32",
   "metadata": {},
   "outputs": [
    {
     "data": {
      "text/plain": [
       "1.0"
      ]
     },
     "execution_count": 115,
     "metadata": {},
     "output_type": "execute_result"
    }
   ],
   "source": [
    "classification.score(X_test, y_test)"
   ]
  },
  {
   "cell_type": "code",
   "execution_count": 116,
   "id": "6eb4bf7c",
   "metadata": {},
   "outputs": [
    {
     "name": "stdout",
     "output_type": "stream",
     "text": [
      "\n",
      "Accuracy: 1.00\n",
      "\n"
     ]
    }
   ],
   "source": [
    "from sklearn.metrics import accuracy_score\n",
    "print('\\nAccuracy: {:.2f}\\n'.format(accuracy_score(y_test,predictions)))"
   ]
  },
  {
   "cell_type": "code",
   "execution_count": 117,
   "id": "4c2c6970",
   "metadata": {},
   "outputs": [
    {
     "data": {
      "text/plain": [
       "[<matplotlib.lines.Line2D at 0x1f82e720940>]"
      ]
     },
     "execution_count": 117,
     "metadata": {},
     "output_type": "execute_result"
    },
    {
     "data": {
      "image/png": "[encoded data removed]",
      "text/plain": [
       "<Figure size 640x480 with 1 Axes>"
      ]
     },
     "metadata": {},
     "output_type": "display_data"
    }
   ],
   "source": [
    "y_pred_proba = classification.predict_proba(X_test)[::,1]\n",
    "fpr, tpr, _ = metrics.roc_curve(y_test,  y_pred_proba)\n",
    "auc = metrics.roc_auc_score(y_test, y_pred_proba)\n",
    "plt.plot(fpr,tpr)"
   ]
  },
  {
   "cell_type": "code",
   "execution_count": null,
   "id": "eff1212b",
   "metadata": {},
   "outputs": [],
   "source": [
    "###Course of Action"
   ]
  },
  {
   "cell_type": "code",
   "execution_count": null,
   "id": "344dcc33",
   "metadata": {},
   "outputs": [],
   "source": [
    "### 1. We need to incorporate more dummy variables based on the whether they were rented or not for every single month the \n",
    "### title was avaliable for rent at the Sakila video rental stores.\n",
    "### Right now, the only historical variable is 'rented_last_month'(also our target variable), which only encompasses a month's \n",
    "### worth of rental transactions. Many films are seasonal in popularity and this can only be observed a longer period of time.\n",
    "### It's hard to extrapolate seasonality just from a month of data points!"
   ]
  },
  {
   "cell_type": "code",
   "execution_count": null,
   "id": "94e5a56d",
   "metadata": {},
   "outputs": [],
   "source": [
    "###2. We could also incorporate other variables such as actor information, film_id, language, payment etc to make the model\n",
    "### more robust, but in my opinion these variables are less related to the target variable."
   ]
  }
 ],
 "metadata": {
  "kernelspec": {
   "display_name": "Python 3 (ipykernel)",
   "language": "python",
   "name": "python3"
  },
  "language_info": {
   "codemirror_mode": {
    "name": "ipython",
    "version": 3
   },
   "file_extension": ".py",
   "mimetype": "text/x-python",
   "name": "python",
   "nbconvert_exporter": "python",
   "pygments_lexer": "ipython3",
   "version": "3.9.13"
  }
 },
 "nbformat": 4,
 "nbformat_minor": 5
}
